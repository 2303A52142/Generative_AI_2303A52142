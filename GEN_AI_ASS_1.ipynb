{
  "nbformat": 4,
  "nbformat_minor": 0,
  "metadata": {
    "colab": {
      "provenance": [],
      "authorship_tag": "ABX9TyP7vQ31xMrEAqaR33hc9bMt",
      "include_colab_link": true
    },
    "kernelspec": {
      "name": "python3",
      "display_name": "Python 3"
    },
    "language_info": {
      "name": "python"
    }
  },
  "cells": [
    {
      "cell_type": "markdown",
      "metadata": {
        "id": "view-in-github",
        "colab_type": "text"
      },
      "source": [
        "<a href=\"https://colab.research.google.com/github/2303A52142/Generative_AI_2303A52142/blob/main/GEN_AI_ASS_1.ipynb\" target=\"_parent\"><img src=\"https://colab.research.google.com/assets/colab-badge.svg\" alt=\"Open In Colab\"/></a>"
      ]
    },
    {
      "cell_type": "markdown",
      "source": [
        "1"
      ],
      "metadata": {
        "id": "7A6zmQpGukJ1"
      }
    },
    {
      "cell_type": "code",
      "execution_count": 1,
      "metadata": {
        "colab": {
          "base_uri": "https://localhost:8080/"
        },
        "id": "vLKrEjPQpnQw",
        "outputId": "ff6dfddd-18f4-41ff-bc13-f5fcf05eb1ec"
      },
      "outputs": [
        {
          "output_type": "stream",
          "name": "stdout",
          "text": [
            "Mean Absolute Error (MAE): 0.4600000000000016\n",
            "Mean Squared Error (MSE): 0.24600000000000147\n",
            "Root Mean Squared Error (RMSE): 0.49598387070549127\n"
          ]
        }
      ],
      "source": [
        "import numpy as np\n",
        "Y_actual = np.array([20, 30, 40, 50, 60])\n",
        "Y_pred = np.array([20.5, 30.3, 40.2, 50.6, 60.7])\n",
        "MAE = np.mean(np.abs(Y_actual - Y_pred))\n",
        "MSE = np.mean((Y_actual - Y_pred) ** 2)\n",
        "RMSE = np.sqrt(MSE)\n",
        "print(f\"Mean Absolute Error (MAE): {MAE}\")\n",
        "print(f\"Mean Squared Error (MSE): {MSE}\")\n",
        "print(f\"Root Mean Squared Error (RMSE): {RMSE}\")"
      ]
    },
    {
      "cell_type": "code",
      "source": [
        "from sklearn.metrics import mean_absolute_error, mean_squared_error\n",
        "import numpy as np\n",
        "Y_actual = np.array([20, 30, 40, 50, 60])\n",
        "Y_pred = np.array([20.5, 30.3, 40.2, 50.6, 60.7])\n",
        "MAE_sklearn = mean_absolute_error(Y_actual, Y_pred)\n",
        "MSE_sklearn = mean_squared_error(Y_actual, Y_pred)\n",
        "RMSE_sklearn = np.sqrt(MSE_sklearn)\n",
        "print(f\"Mean Absolute Error (MAE) from sklearn: {MAE_sklearn}\")\n",
        "print(f\"Mean Squared Error (MSE) from sklearn: {MSE_sklearn}\")\n",
        "print(f\"Root Mean Squared Error (RMSE) from sklearn: {RMSE_sklearn}\")"
      ],
      "metadata": {
        "colab": {
          "base_uri": "https://localhost:8080/"
        },
        "id": "LN_5VOnbt-hc",
        "outputId": "ba1b1034-ac2f-49b5-89f7-012e3adc89ee"
      },
      "execution_count": 2,
      "outputs": [
        {
          "output_type": "stream",
          "name": "stdout",
          "text": [
            "Mean Absolute Error (MAE) from sklearn: 0.4600000000000016\n",
            "Mean Squared Error (MSE) from sklearn: 0.24600000000000147\n",
            "Root Mean Squared Error (RMSE) from sklearn: 0.49598387070549127\n"
          ]
        }
      ]
    },
    {
      "cell_type": "markdown",
      "source": [
        "2"
      ],
      "metadata": {
        "id": "BErIiekQu53l"
      }
    },
    {
      "cell_type": "code",
      "source": [
        "from sklearn.metrics import accuracy_score, precision_score, recall_score, f1_score\n",
        "Y_actual_class = np.array([0, 1, 2, 0, 1, 2, 0, 1, 2, 0, 1, 2])\n",
        "Y_pred_class = np.array([0, 1, 0, 0, 0, 0, 1, 2, 1, 2, 2, 2])\n",
        "accuracy = accuracy_score(Y_actual_class, Y_pred_class)\n",
        "precision = precision_score(Y_actual_class, Y_pred_class, average='macro', labels=np.unique(Y_actual_class))\n",
        "recall = recall_score(Y_actual_class, Y_pred_class, average='macro', labels=np.unique(Y_actual_class))\n",
        "f1 = f1_score(Y_actual_class, Y_pred_class, average='macro', labels=np.unique(Y_actual_class))\n",
        "print(f\"Accuracy: {accuracy}\")\n",
        "print(f\"Precision (Macro): {precision}\")\n",
        "print(f\"Recall (Macro): {recall}\")\n",
        "print(f\"F1-Score (Macro): {f1}\")"
      ],
      "metadata": {
        "colab": {
          "base_uri": "https://localhost:8080/"
        },
        "id": "DIOyS491uEo9",
        "outputId": "902f592c-05a1-45c1-8443-5be25fd3dda0"
      },
      "execution_count": 3,
      "outputs": [
        {
          "output_type": "stream",
          "name": "stdout",
          "text": [
            "Accuracy: 0.3333333333333333\n",
            "Precision (Macro): 0.3277777777777778\n",
            "Recall (Macro): 0.3333333333333333\n",
            "F1-Score (Macro): 0.3267195767195767\n"
          ]
        }
      ]
    },
    {
      "cell_type": "code",
      "source": [
        "from sklearn.metrics import accuracy_score, precision_score, recall_score, f1_score\n",
        "Y_actual_class = np.array([0, 1, 2, 0, 1, 2, 0, 1, 2, 0, 1, 2])\n",
        "Y_pred_class = np.array([0, 1, 0, 0, 0, 0, 1, 2, 1, 2, 2, 2])\n",
        "accuracy_sklearn = accuracy_score(Y_actual_class, Y_pred_class)\n",
        "precision_sklearn = precision_score(Y_actual_class, Y_pred_class, average='macro', labels=np.unique(Y_actual_class))\n",
        "recall_sklearn = recall_score(Y_actual_class, Y_pred_class, average='macro', labels=np.unique(Y_actual_class))\n",
        "f1_sklearn = f1_score(Y_actual_class, Y_pred_class, average='macro', labels=np.unique(Y_actual_class))\n",
        "print(f\"Accuracy from sklearn: {accuracy_sklearn}\")\n",
        "print(f\"Precision (Macro) from sklearn: {precision_sklearn}\")\n",
        "print(f\"Recall (Macro) from sklearn: {recall_sklearn}\")\n",
        "print(f\"F1-Score (Macro) from sklearn: {f1_sklearn}\")"
      ],
      "metadata": {
        "colab": {
          "base_uri": "https://localhost:8080/"
        },
        "id": "wTWllWl7uIX9",
        "outputId": "2257728c-03c4-4018-9ade-8f4949b2ac0a"
      },
      "execution_count": 4,
      "outputs": [
        {
          "output_type": "stream",
          "name": "stdout",
          "text": [
            "Accuracy from sklearn: 0.3333333333333333\n",
            "Precision (Macro) from sklearn: 0.3277777777777778\n",
            "Recall (Macro) from sklearn: 0.3333333333333333\n",
            "F1-Score (Macro) from sklearn: 0.3267195767195767\n"
          ]
        }
      ]
    }
  ]
}