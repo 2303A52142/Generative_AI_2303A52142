{
  "nbformat": 4,
  "nbformat_minor": 0,
  "metadata": {
    "colab": {
      "provenance": [],
      "authorship_tag": "ABX9TyNxfCcOue9vWp/goD8tnef1",
      "include_colab_link": true
    },
    "kernelspec": {
      "name": "python3",
      "display_name": "Python 3"
    },
    "language_info": {
      "name": "python"
    }
  },
  "cells": [
    {
      "cell_type": "markdown",
      "metadata": {
        "id": "view-in-github",
        "colab_type": "text"
      },
      "source": [
        "<a href=\"https://colab.research.google.com/github/2303A52142/Generative_AI_2303A52142/blob/main/GAI_ASS_3.ipynb\" target=\"_parent\"><img src=\"https://colab.research.google.com/assets/colab-badge.svg\" alt=\"Open In Colab\"/></a>"
      ]
    },
    {
      "cell_type": "code",
      "execution_count": 1,
      "metadata": {
        "id": "f1U1itVb7C3G",
        "colab": {
          "base_uri": "https://localhost:8080/"
        },
        "outputId": "1bba2001-7035-4b49-f732-8a19664cedc2"
      },
      "outputs": [
        {
          "output_type": "stream",
          "name": "stdout",
          "text": [
            "Optimal x for f(x) = 5x^4 + 3x^2 + 10 is: 0.0\n"
          ]
        }
      ],
      "source": [
        "def f(x):\n",
        "    return 5*x**4 + 3*x**2 + 10\n",
        "def df(x):\n",
        "    return 20*x**3 + 6*x\n",
        "def gradient_descent(learning_rate=0.01, iterations=1000):\n",
        "    x = 0\n",
        "    for _ in range(iterations):\n",
        "        x = x - learning_rate * df(x)\n",
        "    return x\n",
        "optimal_x = gradient_descent(learning_rate=0.01, iterations=1000)\n",
        "print(\"Optimal x for f(x) = 5x^4 + 3x^2 + 10 is:\", optimal_x)"
      ]
    },
    {
      "cell_type": "code",
      "source": [
        "import math\n",
        "def g(x, y):\n",
        "    return 3*x**2 + 5*math.exp(-y) + 10\n",
        "def dg_dx(x, y):\n",
        "    return 6*x\n",
        "def dg_dy(x, y):\n",
        "    return -5*math.exp(-y)\n",
        "def gradient_descent_2(learning_rate=0.01, iterations=1000):\n",
        "    x = 0\n",
        "    y = 0\n",
        "    for _ in range(iterations):\n",
        "        x = x - learning_rate * dg_dx(x, y)\n",
        "        y = y - learning_rate * dg_dy(x, y)\n",
        "    return x, y\n",
        "optimal_x, optimal_y = gradient_descent_2(learning_rate=0.01, iterations=1000)\n",
        "print(\"Optimal x and y for g(x, y) = 3x^2 + 5e^(-y) + 10 are:\", optimal_x, optimal_y)"
      ],
      "metadata": {
        "colab": {
          "base_uri": "https://localhost:8080/"
        },
        "id": "bRu3Mwtp4zAE",
        "outputId": "d4488e6a-1ed3-4f48-a047-7ea731bb310a"
      },
      "execution_count": 2,
      "outputs": [
        {
          "output_type": "stream",
          "name": "stdout",
          "text": [
            "Optimal x and y for g(x, y) = 3x^2 + 5e^(-y) + 10 are: 0.0 3.9337602416246904\n"
          ]
        }
      ]
    },
    {
      "cell_type": "code",
      "source": [
        "import math\n",
        "def sigmoid(x):\n",
        "    return 1 / (1 + math.exp(-x))\n",
        "def sigmoid_prime(x):\n",
        "    sig = sigmoid(x)\n",
        "    return sig * (1 - sig)\n",
        "def gradient_descent_sigmoid(learning_rate=0.01, iterations=1000):\n",
        "    x = 0  # Initial guess for x\n",
        "    for _ in range(iterations):\n",
        "        x = x - learning_rate * sigmoid_prime(x)\n",
        "    return x\n",
        "optimal_x_sigmoid = gradient_descent_sigmoid(learning_rate=0.01, iterations=1000)\n",
        "print(\"Optimal x for sigmoid function z(x) = 1 / (1 + e^(-x)) is:\", optimal_x_sigmoid)"
      ],
      "metadata": {
        "colab": {
          "base_uri": "https://localhost:8080/"
        },
        "id": "Wk6towJC4y3V",
        "outputId": "328bf289-880e-4bfc-b315-936dd5ad1068"
      },
      "execution_count": 4,
      "outputs": [
        {
          "output_type": "stream",
          "name": "stdout",
          "text": [
            "Optimal x for sigmoid function z(x) = 1 / (1 + e^(-x)) is: -1.8618354629020137\n"
          ]
        }
      ]
    },
    {
      "cell_type": "code",
      "source": [
        "x_values = [1, 2, 3, 4, 5]\n",
        "y_values = [2, 4, 6, 8, 10]\n",
        "def se(M, C, x_values, y_values):\n",
        "    return sum((y - (M*x + C))**2 for x, y in zip(x_values, y_values))\n",
        "def dSE_dM(M, C, x_values, y_values):\n",
        "    return -2 * sum((y - (M*x + C)) * x for x, y in zip(x_values, y_values))\n",
        "def dSE_dC(M, C, x_values, y_values):\n",
        "    return -2 * sum((y - (M*x + C)) for x, y in zip(x_values, y_values))\n",
        "def gradient_descent_se(learning_rate=0.01, iterations=1000):\n",
        "    M = 0\n",
        "    C = 0\n",
        "    for _ in range(iterations):\n",
        "        M = M - learning_rate * dSE_dM(M, C, x_values, y_values)\n",
        "        C = C - learning_rate * dSE_dC(M, C, x_values, y_values)\n",
        "    return M, C\n",
        "optimal_M, optimal_C = gradient_descent_se(learning_rate=0.01, iterations=1000)\n",
        "print(\"Optimal M and C for SE minimization are:\", optimal_M, optimal_C)"
      ],
      "metadata": {
        "colab": {
          "base_uri": "https://localhost:8080/"
        },
        "id": "FGkIwPIG4yqd",
        "outputId": "870cb322-52dd-4eea-8e67-747a2e2f8066"
      },
      "execution_count": 6,
      "outputs": [
        {
          "output_type": "stream",
          "name": "stdout",
          "text": [
            "Optimal M and C for SE minimization are: 2.0000000001446097 -5.214050336604198e-10\n"
          ]
        }
      ]
    }
  ]
}